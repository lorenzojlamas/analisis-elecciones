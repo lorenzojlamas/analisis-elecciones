{
 "cells": [
  {
   "cell_type": "code",
   "execution_count": 1,
   "metadata": {},
   "outputs": [],
   "source": [
    "import pandas as pd\n",
    "import numpy as np\n",
    "import matplotlib.pyplot as plt\n",
    "import seaborn as sns"
   ]
  },
  {
   "cell_type": "markdown",
   "metadata": {},
   "source": [
    "# Carga de datos crudos"
   ]
  },
  {
   "cell_type": "code",
   "execution_count": 2,
   "metadata": {},
   "outputs": [
    {
     "name": "stderr",
     "output_type": "stream",
     "text": [
      "/Volumes/Extra/Proyects/CursoNlp/NLP/lib/python3.5/site-packages/IPython/core/interactiveshell.py:3049: DtypeWarning: Columns (2) have mixed types. Specify dtype option on import or set low_memory=False.\n",
      "  interactivity=interactivity, compiler=compiler, result=result)\n"
     ]
    }
   ],
   "source": [
    "mesas_totales_lista = pd.read_csv('dataset/mesas_totales_lista.dsv', sep= '|')\n",
    "mesas_totales = pd.read_csv('dataset/mesas_totales.dsv', sep= '|')\n",
    "mesas_totales_agrp_politica = pd.read_csv('dataset/mesas_totales_agrp_politica.dsv', sep= '|')\n",
    "descripcion_regiones = pd.read_csv('dataset/descripcion_regiones.dsv', sep= '|')\n",
    "descripcion_postulaciones = pd.read_csv('dataset/descripcion_postulaciones.dsv', sep= '|')"
   ]
  },
  {
   "cell_type": "markdown",
   "metadata": {},
   "source": [
    "# Conteo de votos por agrupación política"
   ]
  },
  {
   "cell_type": "code",
   "execution_count": 3,
   "metadata": {},
   "outputs": [
    {
     "data": {
      "text/html": [
       "<div>\n",
       "<style scoped>\n",
       "    .dataframe tbody tr th:only-of-type {\n",
       "        vertical-align: middle;\n",
       "    }\n",
       "\n",
       "    .dataframe tbody tr th {\n",
       "        vertical-align: top;\n",
       "    }\n",
       "\n",
       "    .dataframe thead th {\n",
       "        text-align: right;\n",
       "    }\n",
       "</style>\n",
       "<table border=\"1\" class=\"dataframe\">\n",
       "  <thead>\n",
       "    <tr style=\"text-align: right;\">\n",
       "      <th></th>\n",
       "      <th>CODIGO_DISTRITO</th>\n",
       "      <th>CODIGO_SECCION</th>\n",
       "      <th>CODIGO_CIRCUITO</th>\n",
       "      <th>CODIGO_MESA</th>\n",
       "      <th>CODIGO_CATEGORIA</th>\n",
       "      <th>CODIGO_AGRUPACION</th>\n",
       "      <th>VOTOS_AGRUPACION</th>\n",
       "    </tr>\n",
       "  </thead>\n",
       "  <tbody>\n",
       "    <tr>\n",
       "      <th>0</th>\n",
       "      <td>1</td>\n",
       "      <td>1001</td>\n",
       "      <td>1001000001</td>\n",
       "      <td>0100100001X</td>\n",
       "      <td>100000000000</td>\n",
       "      <td>13</td>\n",
       "      <td>1</td>\n",
       "    </tr>\n",
       "    <tr>\n",
       "      <th>1</th>\n",
       "      <td>1</td>\n",
       "      <td>1001</td>\n",
       "      <td>1001000001</td>\n",
       "      <td>0100100001X</td>\n",
       "      <td>100000000000</td>\n",
       "      <td>131</td>\n",
       "      <td>5</td>\n",
       "    </tr>\n",
       "    <tr>\n",
       "      <th>2</th>\n",
       "      <td>1</td>\n",
       "      <td>1001</td>\n",
       "      <td>1001000001</td>\n",
       "      <td>0100100001X</td>\n",
       "      <td>100000000000</td>\n",
       "      <td>132</td>\n",
       "      <td>2</td>\n",
       "    </tr>\n",
       "    <tr>\n",
       "      <th>3</th>\n",
       "      <td>1</td>\n",
       "      <td>1001</td>\n",
       "      <td>1001000001</td>\n",
       "      <td>0100100001X</td>\n",
       "      <td>100000000000</td>\n",
       "      <td>133</td>\n",
       "      <td>15</td>\n",
       "    </tr>\n",
       "    <tr>\n",
       "      <th>4</th>\n",
       "      <td>1</td>\n",
       "      <td>1001</td>\n",
       "      <td>1001000001</td>\n",
       "      <td>0100100001X</td>\n",
       "      <td>100000000000</td>\n",
       "      <td>135</td>\n",
       "      <td>85</td>\n",
       "    </tr>\n",
       "  </tbody>\n",
       "</table>\n",
       "</div>"
      ],
      "text/plain": [
       "   CODIGO_DISTRITO  CODIGO_SECCION CODIGO_CIRCUITO  CODIGO_MESA  \\\n",
       "0                1            1001      1001000001  0100100001X   \n",
       "1                1            1001      1001000001  0100100001X   \n",
       "2                1            1001      1001000001  0100100001X   \n",
       "3                1            1001      1001000001  0100100001X   \n",
       "4                1            1001      1001000001  0100100001X   \n",
       "\n",
       "   CODIGO_CATEGORIA CODIGO_AGRUPACION  VOTOS_AGRUPACION  \n",
       "0      100000000000                13                 1  \n",
       "1      100000000000               131                 5  \n",
       "2      100000000000               132                 2  \n",
       "3      100000000000               133                15  \n",
       "4      100000000000               135                85  "
      ]
     },
     "execution_count": 3,
     "metadata": {},
     "output_type": "execute_result"
    }
   ],
   "source": [
    "mesas_totales_agrp_politica.head()"
   ]
  },
  {
   "cell_type": "code",
   "execution_count": 4,
   "metadata": {},
   "outputs": [
    {
     "data": {
      "text/plain": [
       "Text(0, 0.5, 'Frecuencia')"
      ]
     },
     "execution_count": 4,
     "metadata": {},
     "output_type": "execute_result"
    },
    {
     "data": {
      "image/png": "[encoded data removed]",
      "text/plain": [
       "<Figure size 432x288 with 1 Axes>"
      ]
     },
     "metadata": {
      "needs_background": "light"
     },
     "output_type": "display_data"
    }
   ],
   "source": [
    "df =mesas_totales_agrp_politica[mesas_totales_agrp_politica['CODIGO_AGRUPACION'] == '135']\n",
    "sns.distplot(df['VOTOS_AGRUPACION'],  kde=False, label='Juntos por el cambio', color='yellow')\n",
    "\n",
    "df =mesas_totales_agrp_politica[mesas_totales_agrp_politica['CODIGO_AGRUPACION'] == '136']\n",
    "sns.distplot(df['VOTOS_AGRUPACION'],  kde=False,label='Frente de TODOS', color='blue')\n",
    "plt.legend(prop={'size': 12})\n",
    "plt.title('Escrutionio provisorio Votos por mesa')\n",
    "plt.xlabel('Cantidad de votos')\n",
    "plt.ylabel('Frecuencia')"
   ]
  },
  {
   "cell_type": "code",
   "execution_count": 9,
   "metadata": {},
   "outputs": [
    {
     "data": {
      "text/html": [
       "<div>\n",
       "<style scoped>\n",
       "    .dataframe tbody tr th:only-of-type {\n",
       "        vertical-align: middle;\n",
       "    }\n",
       "\n",
       "    .dataframe tbody tr th {\n",
       "        vertical-align: top;\n",
       "    }\n",
       "\n",
       "    .dataframe thead th {\n",
       "        text-align: right;\n",
       "    }\n",
       "</style>\n",
       "<table border=\"1\" class=\"dataframe\">\n",
       "  <thead>\n",
       "    <tr style=\"text-align: right;\">\n",
       "      <th></th>\n",
       "      <th>CODIGO_CATEGORIA</th>\n",
       "      <th>NOMBRE_CATEGORIA</th>\n",
       "      <th>CODIGO_AGRUPACION</th>\n",
       "      <th>NOMBRE_AGRUPACION</th>\n",
       "      <th>CODIGO_LISTA</th>\n",
       "      <th>NOMBRE_LISTA</th>\n",
       "    </tr>\n",
       "  </thead>\n",
       "  <tbody>\n",
       "    <tr>\n",
       "      <th>896</th>\n",
       "      <td>100000000000</td>\n",
       "      <td>Presidente y Vicepresidente de la República</td>\n",
       "      <td>135</td>\n",
       "      <td>JUNTOS POR EL CAMBIO</td>\n",
       "      <td>000100000000000.135.A.000100000000000.135</td>\n",
       "      <td>JUNTOS SOMOS EL CAMBIO - Mauricio Macri - Migu...</td>\n",
       "    </tr>\n",
       "    <tr>\n",
       "      <th>897</th>\n",
       "      <td>100000000000</td>\n",
       "      <td>Presidente y Vicepresidente de la República</td>\n",
       "      <td>131</td>\n",
       "      <td>FRENTE NOS</td>\n",
       "      <td>000100000000000.131.A.000100000000000.131</td>\n",
       "      <td>CELESTE 2019 - Juan Gomez - Cynthia Hotton</td>\n",
       "    </tr>\n",
       "    <tr>\n",
       "      <th>898</th>\n",
       "      <td>100000000000</td>\n",
       "      <td>Presidente y Vicepresidente de la República</td>\n",
       "      <td>13</td>\n",
       "      <td>MOVIMIENTO AL SOCIALISMO</td>\n",
       "      <td>000100000000000.13.A.000100000000000.13</td>\n",
       "      <td>UNIDAD DE LA IZQUIERDA - Manuela Castañeira - ...</td>\n",
       "    </tr>\n",
       "    <tr>\n",
       "      <th>899</th>\n",
       "      <td>100000000000</td>\n",
       "      <td>Presidente y Vicepresidente de la República</td>\n",
       "      <td>136</td>\n",
       "      <td>FRENTE DE TODOS</td>\n",
       "      <td>000100000000000.136.A.000100000000000.136</td>\n",
       "      <td>CELESTE Y BLANCA - Alberto Fernández - Cristin...</td>\n",
       "    </tr>\n",
       "    <tr>\n",
       "      <th>900</th>\n",
       "      <td>100000000000</td>\n",
       "      <td>Presidente y Vicepresidente de la República</td>\n",
       "      <td>36</td>\n",
       "      <td>PARTIDO AUTONOMISTA</td>\n",
       "      <td>000100000000000.36.A.000100000000000.36</td>\n",
       "      <td>VALORES Y EXPERIENCIA - José Romero - Guillerm...</td>\n",
       "    </tr>\n",
       "    <tr>\n",
       "      <th>901</th>\n",
       "      <td>100000000000</td>\n",
       "      <td>Presidente y Vicepresidente de la República</td>\n",
       "      <td>132</td>\n",
       "      <td>FRENTE PATRIOTA</td>\n",
       "      <td>000100000000000.132.A.000100000000000.132</td>\n",
       "      <td>CELESTE - Alejandro Biondini - Enrique Venturino</td>\n",
       "    </tr>\n",
       "    <tr>\n",
       "      <th>902</th>\n",
       "      <td>100000000000</td>\n",
       "      <td>Presidente y Vicepresidente de la República</td>\n",
       "      <td>133</td>\n",
       "      <td>FRENTE DE IZQUIERDA Y DE TRABAJADORES - UNIDAD</td>\n",
       "      <td>000100000000000.133.A.000100000000000.133</td>\n",
       "      <td>UNIDAD - Nicolás Del Caño - Romina Del Pla</td>\n",
       "    </tr>\n",
       "    <tr>\n",
       "      <th>903</th>\n",
       "      <td>100000000000</td>\n",
       "      <td>Presidente y Vicepresidente de la República</td>\n",
       "      <td>137</td>\n",
       "      <td>CONSENSO FEDERAL</td>\n",
       "      <td>000100000000000.137.A.000100000000000.137</td>\n",
       "      <td>CONSENSO PARA EL FUTURO - Roberto Lavagna - Ju...</td>\n",
       "    </tr>\n",
       "    <tr>\n",
       "      <th>904</th>\n",
       "      <td>100000000000</td>\n",
       "      <td>Presidente y Vicepresidente de la República</td>\n",
       "      <td>87</td>\n",
       "      <td>UNITE POR LA LIBERTAD Y LA DIGNIDAD</td>\n",
       "      <td>000100000000000.87.A.000100000000000.87</td>\n",
       "      <td>DESPERTAR - José Espert - Luis Rosales</td>\n",
       "    </tr>\n",
       "    <tr>\n",
       "      <th>905</th>\n",
       "      <td>100000000000</td>\n",
       "      <td>Presidente y Vicepresidente de la República</td>\n",
       "      <td>57</td>\n",
       "      <td>MOVIMIENTO DE ACCION VECINAL</td>\n",
       "      <td>000100000000000.57.A.000100000000000.57</td>\n",
       "      <td>COMPROMISO VECINAL - Raúl Albarracin - Sergio ...</td>\n",
       "    </tr>\n",
       "  </tbody>\n",
       "</table>\n",
       "</div>"
      ],
      "text/plain": [
       "     CODIGO_CATEGORIA                             NOMBRE_CATEGORIA  \\\n",
       "896      100000000000  Presidente y Vicepresidente de la República   \n",
       "897      100000000000  Presidente y Vicepresidente de la República   \n",
       "898      100000000000  Presidente y Vicepresidente de la República   \n",
       "899      100000000000  Presidente y Vicepresidente de la República   \n",
       "900      100000000000  Presidente y Vicepresidente de la República   \n",
       "901      100000000000  Presidente y Vicepresidente de la República   \n",
       "902      100000000000  Presidente y Vicepresidente de la República   \n",
       "903      100000000000  Presidente y Vicepresidente de la República   \n",
       "904      100000000000  Presidente y Vicepresidente de la República   \n",
       "905      100000000000  Presidente y Vicepresidente de la República   \n",
       "\n",
       "    CODIGO_AGRUPACION                               NOMBRE_AGRUPACION  \\\n",
       "896               135                            JUNTOS POR EL CAMBIO   \n",
       "897               131                                      FRENTE NOS   \n",
       "898                13                        MOVIMIENTO AL SOCIALISMO   \n",
       "899               136                                 FRENTE DE TODOS   \n",
       "900                36                             PARTIDO AUTONOMISTA   \n",
       "901               132                                 FRENTE PATRIOTA   \n",
       "902               133  FRENTE DE IZQUIERDA Y DE TRABAJADORES - UNIDAD   \n",
       "903               137                                CONSENSO FEDERAL   \n",
       "904                87             UNITE POR LA LIBERTAD Y LA DIGNIDAD   \n",
       "905                57                    MOVIMIENTO DE ACCION VECINAL   \n",
       "\n",
       "                                  CODIGO_LISTA  \\\n",
       "896  000100000000000.135.A.000100000000000.135   \n",
       "897  000100000000000.131.A.000100000000000.131   \n",
       "898    000100000000000.13.A.000100000000000.13   \n",
       "899  000100000000000.136.A.000100000000000.136   \n",
       "900    000100000000000.36.A.000100000000000.36   \n",
       "901  000100000000000.132.A.000100000000000.132   \n",
       "902  000100000000000.133.A.000100000000000.133   \n",
       "903  000100000000000.137.A.000100000000000.137   \n",
       "904    000100000000000.87.A.000100000000000.87   \n",
       "905    000100000000000.57.A.000100000000000.57   \n",
       "\n",
       "                                          NOMBRE_LISTA  \n",
       "896  JUNTOS SOMOS EL CAMBIO - Mauricio Macri - Migu...  \n",
       "897         CELESTE 2019 - Juan Gomez - Cynthia Hotton  \n",
       "898  UNIDAD DE LA IZQUIERDA - Manuela Castañeira - ...  \n",
       "899  CELESTE Y BLANCA - Alberto Fernández - Cristin...  \n",
       "900  VALORES Y EXPERIENCIA - José Romero - Guillerm...  \n",
       "901   CELESTE - Alejandro Biondini - Enrique Venturino  \n",
       "902         UNIDAD - Nicolás Del Caño - Romina Del Pla  \n",
       "903  CONSENSO PARA EL FUTURO - Roberto Lavagna - Ju...  \n",
       "904             DESPERTAR - José Espert - Luis Rosales  \n",
       "905  COMPROMISO VECINAL - Raúl Albarracin - Sergio ...  "
      ]
     },
     "execution_count": 9,
     "metadata": {},
     "output_type": "execute_result"
    }
   ],
   "source": [
    "descripcion_postulaciones[descripcion_postulaciones['NOMBRE_CATEGORIA'] == 'Presidente y Vicepresidente de la República']"
   ]
  },
  {
   "cell_type": "markdown",
   "metadata": {},
   "source": [
    "# Analisis de los porcentajes presidente"
   ]
  },
  {
   "cell_type": "code",
   "execution_count": 10,
   "metadata": {},
   "outputs": [],
   "source": [
    "votos_presidente = mesas_totales_agrp_politica[mesas_totales_agrp_politica['CODIGO_CATEGORIA']== 100000000000]"
   ]
  },
  {
   "cell_type": "code",
   "execution_count": 11,
   "metadata": {},
   "outputs": [],
   "source": [
    "votos_totales_prsidente = votos_presidente['VOTOS_AGRUPACION'].sum()\n",
    "votos_totales_prsidente_TODOS=votos_presidente[votos_presidente['CODIGO_AGRUPACION'] == '135']['VOTOS_AGRUPACION'].sum()\n",
    "votos_totales_prsidente_CAMBIEMOS=votos_presidente[votos_presidente['CODIGO_AGRUPACION'] == '136']['VOTOS_AGRUPACION'].sum()"
   ]
  },
  {
   "cell_type": "code",
   "execution_count": 12,
   "metadata": {},
   "outputs": [],
   "source": [
    "votos_presidente_sum= votos_presidente.groupby('CODIGO_AGRUPACION')['VOTOS_AGRUPACION'].sum().reset_index()"
   ]
  },
  {
   "cell_type": "code",
   "execution_count": 25,
   "metadata": {},
   "outputs": [],
   "source": [
    "votos_presidente_sum['CODIGO_AGRUPACION'] = ['MOVIMIENTO AL SOCIALISMO', 'FRENTE NOS','FRENTE PATRIOTA', '133','CAMBIEMOS', 'TODOS', 'FRENTE DE IZQUIERDA Y DE TRABAJADORES - UNIDAD', 'PARTIDO AUTONOMISTA\t', 'MOVIMIENTO DE ACCION VECINAL','UNITE POR LA LIBERTAD Y LA DIGNIDAD']"
   ]
  },
  {
   "cell_type": "code",
   "execution_count": 14,
   "metadata": {},
   "outputs": [
    {
     "data": {
      "image/png": "[encoded data removed]",
      "text/plain": [
       "<Figure size 432x288 with 1 Axes>"
      ]
     },
     "metadata": {},
     "output_type": "display_data"
    }
   ],
   "source": [
    "# Pie chart\n",
    "labels = votos_presidente_sum['CODIGO_AGRUPACION']\n",
    "sizes = votos_presidente_sum['VOTOS_AGRUPACION']\n",
    "#colors\n",
    "colors = ['#ff9999','#66b3ff','#99ff99','#ffcc99', 'yellow', 'blue']\n",
    " \n",
    "fig1, ax1 = plt.subplots()\n",
    "patches, texts, autotexts = ax1.pie(sizes, colors = colors, labels=labels, autopct='%1.1f%%', startangle=90)\n",
    "for text in texts:\n",
    "    text.set_color('grey')\n",
    "for autotext in autotexts:\n",
    "    autotext.set_color('grey')\n",
    "# Equal aspect ratio ensures that pie is drawn as a circle\n",
    "ax1.axis('equal')  \n",
    "plt.tight_layout()\n",
    "plt.show()"
   ]
  },
  {
   "cell_type": "code",
   "execution_count": 26,
   "metadata": {},
   "outputs": [
    {
     "data": {
      "text/html": [
       "<div>\n",
       "<style scoped>\n",
       "    .dataframe tbody tr th:only-of-type {\n",
       "        vertical-align: middle;\n",
       "    }\n",
       "\n",
       "    .dataframe tbody tr th {\n",
       "        vertical-align: top;\n",
       "    }\n",
       "\n",
       "    .dataframe thead th {\n",
       "        text-align: right;\n",
       "    }\n",
       "</style>\n",
       "<table border=\"1\" class=\"dataframe\">\n",
       "  <thead>\n",
       "    <tr style=\"text-align: right;\">\n",
       "      <th></th>\n",
       "      <th>CODIGO_DISTRITO</th>\n",
       "      <th>CODIGO_SECCION</th>\n",
       "      <th>CODIGO_CIRCUITO</th>\n",
       "      <th>CODIGO_MESA</th>\n",
       "      <th>CODIGO_CATEGORIA</th>\n",
       "      <th>CODIGO_AGRUPACION</th>\n",
       "      <th>VOTOS_AGRUPACION</th>\n",
       "    </tr>\n",
       "  </thead>\n",
       "  <tbody>\n",
       "    <tr>\n",
       "      <th>0</th>\n",
       "      <td>1</td>\n",
       "      <td>1001</td>\n",
       "      <td>1001000001</td>\n",
       "      <td>0100100001X</td>\n",
       "      <td>100000000000</td>\n",
       "      <td>13</td>\n",
       "      <td>1</td>\n",
       "    </tr>\n",
       "    <tr>\n",
       "      <th>1</th>\n",
       "      <td>1</td>\n",
       "      <td>1001</td>\n",
       "      <td>1001000001</td>\n",
       "      <td>0100100001X</td>\n",
       "      <td>100000000000</td>\n",
       "      <td>131</td>\n",
       "      <td>5</td>\n",
       "    </tr>\n",
       "    <tr>\n",
       "      <th>2</th>\n",
       "      <td>1</td>\n",
       "      <td>1001</td>\n",
       "      <td>1001000001</td>\n",
       "      <td>0100100001X</td>\n",
       "      <td>100000000000</td>\n",
       "      <td>132</td>\n",
       "      <td>2</td>\n",
       "    </tr>\n",
       "    <tr>\n",
       "      <th>3</th>\n",
       "      <td>1</td>\n",
       "      <td>1001</td>\n",
       "      <td>1001000001</td>\n",
       "      <td>0100100001X</td>\n",
       "      <td>100000000000</td>\n",
       "      <td>133</td>\n",
       "      <td>15</td>\n",
       "    </tr>\n",
       "    <tr>\n",
       "      <th>4</th>\n",
       "      <td>1</td>\n",
       "      <td>1001</td>\n",
       "      <td>1001000001</td>\n",
       "      <td>0100100001X</td>\n",
       "      <td>100000000000</td>\n",
       "      <td>135</td>\n",
       "      <td>85</td>\n",
       "    </tr>\n",
       "  </tbody>\n",
       "</table>\n",
       "</div>"
      ],
      "text/plain": [
       "   CODIGO_DISTRITO  CODIGO_SECCION CODIGO_CIRCUITO  CODIGO_MESA  \\\n",
       "0                1            1001      1001000001  0100100001X   \n",
       "1                1            1001      1001000001  0100100001X   \n",
       "2                1            1001      1001000001  0100100001X   \n",
       "3                1            1001      1001000001  0100100001X   \n",
       "4                1            1001      1001000001  0100100001X   \n",
       "\n",
       "   CODIGO_CATEGORIA CODIGO_AGRUPACION  VOTOS_AGRUPACION  \n",
       "0      100000000000                13                 1  \n",
       "1      100000000000               131                 5  \n",
       "2      100000000000               132                 2  \n",
       "3      100000000000               133                15  \n",
       "4      100000000000               135                85  "
      ]
     },
     "execution_count": 26,
     "metadata": {},
     "output_type": "execute_result"
    }
   ],
   "source": [
    "mesas_totales_agrp_politica.head()"
   ]
  },
  {
   "cell_type": "markdown",
   "metadata": {},
   "source": [
    "# Proyección utilizando el promedio de las mesas votadas por agrupación"
   ]
  },
  {
   "cell_type": "code",
   "execution_count": 27,
   "metadata": {},
   "outputs": [],
   "source": [
    "mean_135 = mesas_totales_agrp_politica[(mesas_totales_agrp_politica['CODIGO_AGRUPACION'] == '135') & (mesas_totales_agrp_politica['VOTOS_AGRUPACION'] != 0)]['VOTOS_AGRUPACION'].mean()\n",
    "mean_136 = mesas_totales_agrp_politica[(mesas_totales_agrp_politica['CODIGO_AGRUPACION'] == '136') & (mesas_totales_agrp_politica['VOTOS_AGRUPACION'] != 0)]['VOTOS_AGRUPACION'].mean()\n",
    "mean_137 = mesas_totales_agrp_politica[(mesas_totales_agrp_politica['CODIGO_AGRUPACION'] == '137') & (mesas_totales_agrp_politica['VOTOS_AGRUPACION'] != 0)]['VOTOS_AGRUPACION'].mean()\n",
    "mean_133 = mesas_totales_agrp_politica[(mesas_totales_agrp_politica['CODIGO_AGRUPACION'] == '133') & (mesas_totales_agrp_politica['VOTOS_AGRUPACION'] != 0)]['VOTOS_AGRUPACION'].mean()\n",
    "mean_others = mesas_totales_agrp_politica[(mesas_totales_agrp_politica['CODIGO_AGRUPACION'] != '133') & (mesas_totales_agrp_politica['CODIGO_AGRUPACION'] != '137') & (mesas_totales_agrp_politica['CODIGO_AGRUPACION'] != '136') & (mesas_totales_agrp_politica['CODIGO_AGRUPACION'] != '135') &(mesas_totales_agrp_politica['VOTOS_AGRUPACION'] != 0)]['VOTOS_AGRUPACION'].mean()\n",
    "\n"
   ]
  },
  {
   "cell_type": "code",
   "execution_count": 18,
   "metadata": {},
   "outputs": [],
   "source": [
    "totales_sin_zero = mesas_totales_agrp_politica.copy()"
   ]
  },
  {
   "cell_type": "code",
   "execution_count": 19,
   "metadata": {},
   "outputs": [],
   "source": [
    "totales_sin_zero_135 = totales_sin_zero[totales_sin_zero['CODIGO_AGRUPACION'] == '135'].replace(0,mean_135)\n",
    "totales_sin_zero_136 = totales_sin_zero[totales_sin_zero['CODIGO_AGRUPACION'] == '136'].replace(0,mean_136)\n",
    "totales_sin_zero_137 = totales_sin_zero[totales_sin_zero['CODIGO_AGRUPACION'] == '137'].replace(0,mean_137)\n",
    "totales_sin_zero_133 = totales_sin_zero[totales_sin_zero['CODIGO_AGRUPACION'] == '133'].replace(0,mean_133)\n",
    "totales_sin_zero_others = totales_sin_zero[(totales_sin_zero['CODIGO_AGRUPACION'] != '133') & (totales_sin_zero['CODIGO_AGRUPACION'] != '135') & (totales_sin_zero['CODIGO_AGRUPACION'] != '136') & (totales_sin_zero['CODIGO_AGRUPACION'] != '137') &(totales_sin_zero['CODIGO_AGRUPACION'] != '133')].replace(0,mean_133) "
   ]
  },
  {
   "cell_type": "code",
   "execution_count": 20,
   "metadata": {},
   "outputs": [],
   "source": [
    "totales_sin_zero = totales_sin_zero_135\n",
    "\n",
    "totales_sin_zero = totales_sin_zero.append(totales_sin_zero_136)\n",
    "totales_sin_zero = totales_sin_zero.append(totales_sin_zero_137)\n",
    "totales_sin_zero = totales_sin_zero.append(totales_sin_zero_133)\n",
    "totales_sin_zero = totales_sin_zero.append(totales_sin_zero_others)\n",
    "votos_presidente = totales_sin_zero[totales_sin_zero['CODIGO_CATEGORIA']== 100000000000]"
   ]
  },
  {
   "cell_type": "code",
   "execution_count": 21,
   "metadata": {},
   "outputs": [],
   "source": [
    "votos_presidente_sum= votos_presidente.groupby('CODIGO_AGRUPACION')['VOTOS_AGRUPACION'].sum().reset_index()"
   ]
  },
  {
   "cell_type": "code",
   "execution_count": 22,
   "metadata": {},
   "outputs": [
    {
     "data": {
      "text/html": [
       "<div>\n",
       "<style scoped>\n",
       "    .dataframe tbody tr th:only-of-type {\n",
       "        vertical-align: middle;\n",
       "    }\n",
       "\n",
       "    .dataframe tbody tr th {\n",
       "        vertical-align: top;\n",
       "    }\n",
       "\n",
       "    .dataframe thead th {\n",
       "        text-align: right;\n",
       "    }\n",
       "</style>\n",
       "<table border=\"1\" class=\"dataframe\">\n",
       "  <thead>\n",
       "    <tr style=\"text-align: right;\">\n",
       "      <th></th>\n",
       "      <th>CODIGO_AGRUPACION</th>\n",
       "      <th>VOTOS_AGRUPACION</th>\n",
       "    </tr>\n",
       "  </thead>\n",
       "  <tbody>\n",
       "    <tr>\n",
       "      <th>0</th>\n",
       "      <td>13</td>\n",
       "      <td>3.996621e+05</td>\n",
       "    </tr>\n",
       "    <tr>\n",
       "      <th>1</th>\n",
       "      <td>131</td>\n",
       "      <td>7.090954e+05</td>\n",
       "    </tr>\n",
       "    <tr>\n",
       "      <th>2</th>\n",
       "      <td>132</td>\n",
       "      <td>5.698972e+05</td>\n",
       "    </tr>\n",
       "    <tr>\n",
       "      <th>3</th>\n",
       "      <td>133</td>\n",
       "      <td>7.626262e+05</td>\n",
       "    </tr>\n",
       "    <tr>\n",
       "      <th>4</th>\n",
       "      <td>135</td>\n",
       "      <td>8.064738e+06</td>\n",
       "    </tr>\n",
       "    <tr>\n",
       "      <th>5</th>\n",
       "      <td>136</td>\n",
       "      <td>1.195731e+07</td>\n",
       "    </tr>\n",
       "    <tr>\n",
       "      <th>6</th>\n",
       "      <td>137</td>\n",
       "      <td>2.081625e+06</td>\n",
       "    </tr>\n",
       "    <tr>\n",
       "      <th>7</th>\n",
       "      <td>36</td>\n",
       "      <td>6.746201e+05</td>\n",
       "    </tr>\n",
       "    <tr>\n",
       "      <th>8</th>\n",
       "      <td>57</td>\n",
       "      <td>6.586309e+05</td>\n",
       "    </tr>\n",
       "    <tr>\n",
       "      <th>9</th>\n",
       "      <td>87</td>\n",
       "      <td>6.208249e+05</td>\n",
       "    </tr>\n",
       "  </tbody>\n",
       "</table>\n",
       "</div>"
      ],
      "text/plain": [
       "  CODIGO_AGRUPACION  VOTOS_AGRUPACION\n",
       "0                13      3.996621e+05\n",
       "1               131      7.090954e+05\n",
       "2               132      5.698972e+05\n",
       "3               133      7.626262e+05\n",
       "4               135      8.064738e+06\n",
       "5               136      1.195731e+07\n",
       "6               137      2.081625e+06\n",
       "7                36      6.746201e+05\n",
       "8                57      6.586309e+05\n",
       "9                87      6.208249e+05"
      ]
     },
     "execution_count": 22,
     "metadata": {},
     "output_type": "execute_result"
    }
   ],
   "source": [
    "votos_presidente_sum"
   ]
  },
  {
   "cell_type": "code",
   "execution_count": 23,
   "metadata": {},
   "outputs": [
    {
     "data": {
      "text/plain": [
       "0                                             FIT-U\n",
       "1                                        FRENTE NOS\n",
       "2                                   FRENTE PATRIOTA\n",
       "3                                               133\n",
       "4                                         CAMBIEMOS\n",
       "5                                             TODOS\n",
       "6    FRENTE DE IZQUIERDA Y DE TRABAJADORES - UNIDAD\n",
       "7                             PARTIDO AUTONOMISTA\\t\n",
       "8                      MOVIMIENTO DE ACCION VECINAL\n",
       "9               UNITE POR LA LIBERTAD Y LA DIGNIDAD\n",
       "Name: CODIGO_AGRUPACION, dtype: object"
      ]
     },
     "execution_count": 23,
     "metadata": {},
     "output_type": "execute_result"
    }
   ],
   "source": [
    "votos_presidente_sum['CODIGO_AGRUPACION'] = ['FIT-U', 'FRENTE NOS','FRENTE PATRIOTA', '133','CAMBIEMOS', 'TODOS', 'FRENTE DE IZQUIERDA Y DE TRABAJADORES - UNIDAD', 'PARTIDO AUTONOMISTA\t', 'MOVIMIENTO DE ACCION VECINAL','UNITE POR LA LIBERTAD Y LA DIGNIDAD']\n",
    "votos_presidente_sum['CODIGO_AGRUPACION']"
   ]
  },
  {
   "cell_type": "code",
   "execution_count": null,
   "metadata": {},
   "outputs": [],
   "source": []
  },
  {
   "cell_type": "code",
   "execution_count": 24,
   "metadata": {},
   "outputs": [
    {
     "data": {
      "image/png": "[encoded data removed]",
      "text/plain": [
       "<Figure size 432x288 with 1 Axes>"
      ]
     },
     "metadata": {},
     "output_type": "display_data"
    }
   ],
   "source": [
    "# Pie chart\n",
    "labels = votos_presidente_sum['CODIGO_AGRUPACION']\n",
    "sizes = votos_presidente_sum['VOTOS_AGRUPACION']\n",
    "#colors\n",
    "colors = ['#ff9999','#66b3ff','#99ff99','#ffcc99', 'yellow', 'blue']\n",
    " \n",
    "fig1, ax1 = plt.subplots()\n",
    "patches, texts, autotexts = ax1.pie(sizes, colors = colors, labels=labels, autopct='%1.1f%%', startangle=90)\n",
    "for text in texts:\n",
    "    text.set_color('grey')\n",
    "for autotext in autotexts:\n",
    "    autotext.set_color('grey')\n",
    "# Equal aspect ratio ensures that pie is drawn as a circle\n",
    "ax1.axis('equal')  \n",
    "plt.tight_layout()\n",
    "plt.show()"
   ]
  },
  {
   "cell_type": "code",
   "execution_count": null,
   "metadata": {},
   "outputs": [],
   "source": []
  },
  {
   "cell_type": "code",
   "execution_count": null,
   "metadata": {},
   "outputs": [],
   "source": []
  },
  {
   "cell_type": "code",
   "execution_count": null,
   "metadata": {},
   "outputs": [],
   "source": []
  },
  {
   "cell_type": "code",
   "execution_count": null,
   "metadata": {},
   "outputs": [],
   "source": []
  },
  {
   "cell_type": "code",
   "execution_count": null,
   "metadata": {},
   "outputs": [],
   "source": []
  }
 ],
 "metadata": {
  "kernelspec": {
   "display_name": "NLP env",
   "language": "python",
   "name": "nlp"
  },
  "language_info": {
   "codemirror_mode": {
    "name": "ipython",
    "version": 3
   },
   "file_extension": ".py",
   "mimetype": "text/x-python",
   "name": "python",
   "nbconvert_exporter": "python",
   "pygments_lexer": "ipython3",
   "version": "3.5.6"
  }
 },
 "nbformat": 4,
 "nbformat_minor": 2
}
